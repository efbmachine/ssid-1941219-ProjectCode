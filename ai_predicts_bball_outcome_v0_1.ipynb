{
  "nbformat": 4,
  "nbformat_minor": 5,
  "metadata": {
    "kernelspec": {
      "display_name": "Python 3",
      "language": "python",
      "name": "python3"
    },
    "language_info": {
      "codemirror_mode": {
        "name": "ipython",
        "version": 3
      },
      "file_extension": ".py",
      "mimetype": "text/x-python",
      "name": "python",
      "nbconvert_exporter": "python",
      "pygments_lexer": "ipython3",
      "version": "3.8.5"
    },
    "colab": {
      "name": "ai-predicts-bball-outcome.v0.1.ipynb",
      "provenance": [],
      "toc_visible": true
    }
  },
  "cells": [
    {
      "cell_type": "code",
      "metadata": {
        "colab": {
          "base_uri": "https://localhost:8080/"
        },
        "id": "qJV7aTOTphBE",
        "outputId": "7b5e5b68-3465-40b8-fd19-1a63da9e1218"
      },
      "source": [
        "from google.colab import drive\n",
        "drive.mount('/content/drive')"
      ],
      "id": "qJV7aTOTphBE",
      "execution_count": null,
      "outputs": [
        {
          "output_type": "stream",
          "text": [
            "Drive already mounted at /content/drive; to attempt to forcibly remount, call drive.mount(\"/content/drive\", force_remount=True).\n"
          ],
          "name": "stdout"
        }
      ]
    },
    {
      "cell_type": "code",
      "metadata": {
        "id": "B4MFjRkqpZdb"
      },
      "source": [
        "import pandas as pd\n",
        "import numpy as np\n",
        "import keras\n",
        "\n",
        "import matplotlib.pyplot as plt\n",
        "from sklearn.preprocessing import StandardScaler\n",
        "from sklearn.metrics import confusion_matrix"
      ],
      "id": "B4MFjRkqpZdb",
      "execution_count": null,
      "outputs": []
    },
    {
      "cell_type": "code",
      "metadata": {
        "scrolled": true,
        "id": "9RtKAHdHpZdn"
      },
      "source": [
        "allData = pd.read_csv('/content/drive/MyDrive/Colab Notebooks/nba data/Full_dataset4.csv')"
      ],
      "id": "9RtKAHdHpZdn",
      "execution_count": null,
      "outputs": []
    },
    {
      "cell_type": "code",
      "metadata": {
        "id": "2YL7Pws0pZdo"
      },
      "source": [
        "for i in range(len(allData)):\n",
        "    if(allData.iloc[i,22]=='L'):\n",
        "        allData.iloc[i,22] = 0\n",
        "    else:\n",
        "        allData.iloc[i,22] = 1"
      ],
      "id": "2YL7Pws0pZdo",
      "execution_count": null,
      "outputs": []
    },
    {
      "cell_type": "markdown",
      "metadata": {
        "id": "PJhmiNvopZdp"
      },
      "source": [
        "## Dataset A (all data)"
      ],
      "id": "PJhmiNvopZdp"
    },
    {
      "cell_type": "code",
      "metadata": {
        "id": "KEJz6MP7pZdp"
      },
      "source": [
        "X_A , y = allData.values[:, :-1], allData.values[:,-1]"
      ],
      "id": "KEJz6MP7pZdp",
      "execution_count": null,
      "outputs": []
    },
    {
      "cell_type": "markdown",
      "metadata": {
        "id": "ObCwkI1LpZdq"
      },
      "source": [
        "## Dataset B (cfs subset - bestFirst on training set)"
      ],
      "id": "ObCwkI1LpZdq"
    },
    {
      "cell_type": "code",
      "metadata": {
        "id": "VGU49fCgpZdr"
      },
      "source": [
        "Bvalues = ['FG_PCT_HOME','FG3_PCT_HOME','DREB_HOME','AST_HOME','STL_HOME',\n",
        "          'FG_PCT_AWAY','FG3_PCT_AWAY','FT_PCT_AWAY','DREB_AWAY','AST_AWAY','PF_AWAY',\n",
        "          'WL_HOME']\n",
        "\n",
        "X_B, Y = pd.read_csv('/content/drive/MyDrive/Colab Notebooks/nba data/Full_dataset4.csv',\n",
        "                     usecols = Bvalues).values[:, :-1].astype(np.float32), allData.values[:,-1].astype(np.float32)"
      ],
      "id": "VGU49fCgpZdr",
      "execution_count": null,
      "outputs": []
    },
    {
      "cell_type": "markdown",
      "metadata": {
        "id": "12GBHTpzpZdr"
      },
      "source": [
        "## Dataset C ( GreeedyStepwise on training set)"
      ],
      "id": "12GBHTpzpZdr"
    },
    {
      "cell_type": "code",
      "metadata": {
        "id": "ZHETtvkdpZds"
      },
      "source": [
        "Cvalues = ['FG_PCT_HOME','FG3_PCT_HOME','FT_PCT_HOME','DREB_HOME','AST_HOME','STL_HOME',\n",
        "          'FG_PCT_AWAY','FG3_PCT_AWAY','FT_PCT_AWAY','DREB_AWAY','AST_AWAY','PF_AWAY',\n",
        "          'WL_HOME']\n",
        "\n",
        "X_C, Y = pd.read_csv('/content/drive/MyDrive/Colab Notebooks/nba data/Full_dataset4.csv',\n",
        "                     usecols = Cvalues).values[:, :-1].astype(np.float32), allData.values[:,-1].astype(np.float32)"
      ],
      "id": "ZHETtvkdpZds",
      "execution_count": null,
      "outputs": []
    },
    {
      "cell_type": "markdown",
      "metadata": {
        "id": "PWAU_lGYpZds"
      },
      "source": [
        "## Dataset D (Shooting 4 values)"
      ],
      "id": "PWAU_lGYpZds"
    },
    {
      "cell_type": "code",
      "metadata": {
        "id": "BMrMFAqIpZdt"
      },
      "source": [
        "Dvalues = ['FG_PCT_HOME','FT_PCT_HOME',\n",
        "          'FG_PCT_AWAY','FT_PCT_AWAY',\n",
        "          'WL_HOME']\n",
        "\n",
        "X_D, Y = pd.read_csv('/content/drive/MyDrive/Colab Notebooks/nba data/Full_dataset4.csv',\n",
        "                     usecols = Dvalues).values[:, :-1].astype(np.float32), allData.values[:,-1].astype(np.float32)"
      ],
      "id": "BMrMFAqIpZdt",
      "execution_count": null,
      "outputs": []
    },
    {
      "cell_type": "markdown",
      "metadata": {
        "id": "MdIHfAhkpZdt"
      },
      "source": [
        "## Dataset E (Shooting 6 values)"
      ],
      "id": "MdIHfAhkpZdt"
    },
    {
      "cell_type": "code",
      "metadata": {
        "id": "ATO7icS2pZdu"
      },
      "source": [
        "Evalues = ['FG_PCT_HOME','FT_PCT_HOME','FG3_PCT_HOME',\n",
        "          'FG_PCT_AWAY','FT_PCT_AWAY','FG3_PCT_AWAY',\n",
        "          'WL_HOME']\n",
        "\n",
        "X_E, Y = pd.read_csv('/content/drive/MyDrive/Colab Notebooks/nba data/Full_dataset4.csv',\n",
        "                     usecols = Evalues).values[:, :-1].astype(np.float32), allData.values[:,-1].astype(np.float32)"
      ],
      "id": "ATO7icS2pZdu",
      "execution_count": null,
      "outputs": []
    },
    {
      "cell_type": "markdown",
      "metadata": {
        "id": "AEO5I8Q1pZdu"
      },
      "source": [
        "## Dataset F (personal  belief)"
      ],
      "id": "AEO5I8Q1pZdu"
    },
    {
      "cell_type": "code",
      "metadata": {
        "id": "LzCyZ82OpZdv"
      },
      "source": [
        "Fvalues = ['FG_PCT_HOME','DREB_HOME','AST_HOME','STL_HOME',\n",
        "          'FG_PCT_AWAY','DREB_AWAY','AST_AWAY','STL_AWAY',\n",
        "          'WL_HOME']\n",
        "\n",
        "X_F, Y = pd.read_csv('/content/drive/MyDrive/Colab Notebooks/nba data/Full_dataset4.csv',\n",
        "                     usecols = Fvalues).values[:, :-1].astype(np.float32), allData.values[:,-1].astype(np.float32)"
      ],
      "id": "LzCyZ82OpZdv",
      "execution_count": null,
      "outputs": []
    },
    {
      "cell_type": "markdown",
      "metadata": {
        "id": "YYeZh-wgpZdv"
      },
      "source": [
        "## Dataset G (GReedy on test set)\n"
      ],
      "id": "YYeZh-wgpZdv"
    },
    {
      "cell_type": "code",
      "metadata": {
        "id": "eO-px9JCpZdv"
      },
      "source": [
        "Gvalues = ['FG_PCT_HOME','FT_PCT_HOME','OREB_HOME','BLK_HOME',\n",
        "          'FG_PCT_AWAY','DREB_AWAY',\n",
        "          'WL_HOME']\n",
        "\n",
        "X_G, Y = pd.read_csv('/content/drive/MyDrive/Colab Notebooks/nba data/Full_dataset4.csv',\n",
        "                     usecols = Gvalues).values[:, :-1].astype(np.float32), allData.values[:,-1].astype(np.float32)"
      ],
      "id": "eO-px9JCpZdv",
      "execution_count": null,
      "outputs": []
    },
    {
      "cell_type": "markdown",
      "metadata": {
        "id": "tPOApq-rErgm"
      },
      "source": [
        "## Dataset H (BestFirst on test set)"
      ],
      "id": "tPOApq-rErgm"
    },
    {
      "cell_type": "code",
      "metadata": {
        "id": "zp9rHJ1PEqtO"
      },
      "source": [
        "Hvalues = ['FG_PCT_HOME','FG3_PCT_HOME','FT_PCT_HOME','OREB_HOME','REB_HOME','STL_HOME','BLK_HOME','TOV_HOME',\n",
        "           'FG_PCT_AWAY','FG3_PCT_AWAY','FT_PCT_AWAY','DREB_AWAY','STL_AWAY','BLK_AWAY',\n",
        "           'WL_HOME']\n",
        "\n",
        "X_H, Y = pd.read_csv('/content/drive/MyDrive/Colab Notebooks/nba data/Full_dataset4.csv',\n",
        "                     usecols = Hvalues).values[:, :-1].astype(np.float32), allData.values[:,-1].astype(np.float32)"
      ],
      "id": "zp9rHJ1PEqtO",
      "execution_count": null,
      "outputs": []
    },
    {
      "cell_type": "code",
      "metadata": {
        "id": "LOaS1ur0pZdw"
      },
      "source": [
        "def standardise(x):\n",
        "    #Standardize the data\n",
        "    data_scaler = StandardScaler()\n",
        "    data_scaler.fit(x)\n",
        "    x = data_scaler.transform(x)\n",
        "    return x, data_scaler\n",
        "\n",
        "\n",
        "# def split_data_and_standardise(x,y,train_size=30000):\n",
        "    \n",
        "#     x = standerdise(x)\n",
        "    \n",
        "#     x_train = x[:train_size]\n",
        "#     y_train = y[:train_size]\n",
        "\n",
        "#     x_test = x[train_size:]\n",
        "#     y_test = y[train_size:]\n",
        "    \n",
        "    \n",
        "    \n",
        "#     return x_train, y_train, x_test, y_test"
      ],
      "id": "LOaS1ur0pZdw",
      "execution_count": null,
      "outputs": []
    },
    {
      "cell_type": "code",
      "metadata": {
        "id": "Eh4MmMihEpGF"
      },
      "source": [
        ""
      ],
      "id": "Eh4MmMihEpGF",
      "execution_count": null,
      "outputs": []
    },
    {
      "cell_type": "markdown",
      "metadata": {
        "id": "oZ305L2jpZdw"
      },
      "source": [
        "## Spliting data "
      ],
      "id": "oZ305L2jpZdw"
    },
    {
      "cell_type": "code",
      "metadata": {
        "id": "FPphfCE8pZdw"
      },
      "source": [
        "# x_train, y_train, x_test, y_test = split_data_and_standerdise(X_A,Y,30000)\n",
        "# X_A = standardise(X_A)"
      ],
      "id": "FPphfCE8pZdw",
      "execution_count": null,
      "outputs": []
    },
    {
      "cell_type": "code",
      "metadata": {
        "colab": {
          "base_uri": "https://localhost:8080/"
        },
        "id": "Y4E38JLRpZdx",
        "outputId": "13995702-8c9b-4ebd-9ba7-6c3cd7e17ed6"
      },
      "source": [
        "x_train = X_B\n",
        "y_train = Y\n",
        "value = Bvalues\n",
        "x_train, sca = standardise(x_train)\n",
        "n_features = x_train.shape[1]\n",
        "n_features"
      ],
      "id": "Y4E38JLRpZdx",
      "execution_count": null,
      "outputs": [
        {
          "output_type": "execute_result",
          "data": {
            "text/plain": [
              "11"
            ]
          },
          "metadata": {
            "tags": []
          },
          "execution_count": 52
        }
      ]
    },
    {
      "cell_type": "markdown",
      "metadata": {
        "id": "bYKxMjaspZdy"
      },
      "source": [
        "## Creating/ Running model"
      ],
      "id": "bYKxMjaspZdy"
    },
    {
      "cell_type": "code",
      "metadata": {
        "id": "-L85iDPhpZdy"
      },
      "source": [
        "import tensorflow as tf\n",
        "from keras import Sequential, Input\n",
        "from keras.layers import Dense"
      ],
      "id": "-L85iDPhpZdy",
      "execution_count": null,
      "outputs": []
    },
    {
      "cell_type": "code",
      "metadata": {
        "id": "ogY9oxt1pZdy"
      },
      "source": [
        "model = Sequential()\n",
        "model.add(Input(shape=(n_features,)))\n",
        "model.add(Dense(200,activation='relu',\n",
        "                     kernel_initializer='he_normal'))\n",
        "model.add(Dense(100,activation='relu',kernel_initializer='he_normal'))\n",
        "model.add(Dense(50,activation='relu',kernel_initializer='he_normal'))\n",
        "model.add(Dense(25,activation='relu',kernel_initializer='he_normal'))\n",
        "model.add(Dense(12,activation='relu',kernel_initializer='he_normal'))\n",
        "model.add(Dense(6,activation='relu',kernel_initializer='he_normal'))\n",
        "model.add(Dense(1,activation='sigmoid'))"
      ],
      "id": "ogY9oxt1pZdy",
      "execution_count": null,
      "outputs": []
    },
    {
      "cell_type": "code",
      "metadata": {
        "id": "r5879f_opZdz"
      },
      "source": [
        "model.compile(optimizer='adam',\n",
        "              loss='binary_crossentropy',\n",
        "              metrics=['accuracy'])"
      ],
      "id": "r5879f_opZdz",
      "execution_count": null,
      "outputs": []
    },
    {
      "cell_type": "code",
      "metadata": {
        "id": "c5NbIQySpZdz"
      },
      "source": [
        "callback = tf.keras.callbacks.EarlyStopping(\n",
        "    monitor=\"val_loss\",\n",
        "    patience=5,\n",
        "    mode=\"auto\",\n",
        "    restore_best_weights=True,\n",
        ")\n"
      ],
      "id": "c5NbIQySpZdz",
      "execution_count": null,
      "outputs": []
    },
    {
      "cell_type": "code",
      "metadata": {
        "scrolled": true,
        "colab": {
          "base_uri": "https://localhost:8080/"
        },
        "id": "Nl0mCs4hpZdz",
        "outputId": "874730d0-be96-4f74-c0de-c8afe838d624"
      },
      "source": [
        "model.fit(x_train,y_train,\n",
        "          shuffle=True,\n",
        "          validation_split=0.3,\n",
        "          epochs=50,\n",
        "          callbacks=[callback])"
      ],
      "id": "Nl0mCs4hpZdz",
      "execution_count": null,
      "outputs": [
        {
          "output_type": "stream",
          "text": [
            "Epoch 1/50\n",
            "811/811 [==============================] - 3s 2ms/step - loss: 0.3674 - accuracy: 0.8286 - val_loss: 0.3530 - val_accuracy: 0.8409\n",
            "Epoch 2/50\n",
            "811/811 [==============================] - 2s 2ms/step - loss: 0.3288 - accuracy: 0.8524 - val_loss: 0.3554 - val_accuracy: 0.8420\n",
            "Epoch 3/50\n",
            "811/811 [==============================] - 2s 2ms/step - loss: 0.3241 - accuracy: 0.8548 - val_loss: 0.3644 - val_accuracy: 0.8295\n",
            "Epoch 4/50\n",
            "811/811 [==============================] - 2s 2ms/step - loss: 0.3163 - accuracy: 0.8566 - val_loss: 0.3775 - val_accuracy: 0.8260\n",
            "Epoch 5/50\n",
            "811/811 [==============================] - 2s 2ms/step - loss: 0.3199 - accuracy: 0.8566 - val_loss: 0.3656 - val_accuracy: 0.8296\n",
            "Epoch 6/50\n",
            "811/811 [==============================] - 2s 2ms/step - loss: 0.3174 - accuracy: 0.8554 - val_loss: 0.3621 - val_accuracy: 0.8362\n"
          ],
          "name": "stdout"
        },
        {
          "output_type": "execute_result",
          "data": {
            "text/plain": [
              "<tensorflow.python.keras.callbacks.History at 0x7febdea78250>"
            ]
          },
          "metadata": {
            "tags": []
          },
          "execution_count": 44
        }
      ]
    },
    {
      "cell_type": "code",
      "metadata": {
        "id": "hPuV7sB6ynIr"
      },
      "source": [
        "# FUNCTION TO EVALUATE MODEL\n",
        "def game_and_accuracy(predictions, true):\n",
        "  correct = 0\n",
        "  for i in range(len(predictions)):\n",
        "      print('Game', i,':')\n",
        "      value = round(predictions[i][0])\n",
        "      camp = ('home' if value == 1 else 'away' )\n",
        "      if(value != int(true[i])):\n",
        "          print('Missed, chose '+ camp)\n",
        "      else:\n",
        "          print('gotit, chose ' +camp)\n",
        "          correct = correct + 1\n",
        "  accuracy = correct/len(predictions)\n",
        "  print(accuracy)\n"
      ],
      "id": "hPuV7sB6ynIr",
      "execution_count": null,
      "outputs": []
    },
    {
      "cell_type": "code",
      "metadata": {
        "id": "74ot8ov6pZdz"
      },
      "source": [
        "TestingDF = pd.read_csv('/content/drive/MyDrive/Colab Notebooks/nba data/nba050521_edit.csv' , usecols = value)"
      ],
      "id": "74ot8ov6pZdz",
      "execution_count": null,
      "outputs": []
    },
    {
      "cell_type": "code",
      "metadata": {
        "id": "XQfqUgF1pZd0"
      },
      "source": [
        "xTest, yTest = TestingDF.values[:, :-1], TestingDF.values[:,-1]"
      ],
      "id": "XQfqUgF1pZd0",
      "execution_count": null,
      "outputs": []
    },
    {
      "cell_type": "code",
      "metadata": {
        "colab": {
          "base_uri": "https://localhost:8080/"
        },
        "id": "_kgRdTubpZd2",
        "outputId": "b626b287-bf22-40f3-8cf1-074b5b2fbd19"
      },
      "source": [
        "xTest = sca.transform(xTest)\n",
        "p = model.predict(xTest)\n",
        "game_and_accuracy(p,yTest)\n",
        "model.evaluate(xTest, yTest)"
      ],
      "id": "_kgRdTubpZd2",
      "execution_count": null,
      "outputs": [
        {
          "output_type": "stream",
          "text": [
            "Game 0 :\n",
            "gotit, chose away\n",
            "Game 1 :\n",
            "Missed, chose away\n",
            "Game 2 :\n",
            "Missed, chose home\n",
            "Game 3 :\n",
            "gotit, chose home\n",
            "Game 4 :\n",
            "gotit, chose home\n",
            "Game 5 :\n",
            "Missed, chose home\n",
            "Game 6 :\n",
            "Missed, chose away\n",
            "Game 7 :\n",
            "Missed, chose home\n",
            "0.375\n",
            "1/1 [==============================] - 0s 14ms/step - loss: 0.8136 - accuracy: 0.3750\n"
          ],
          "name": "stdout"
        },
        {
          "output_type": "execute_result",
          "data": {
            "text/plain": [
              "[0.8136452436447144, 0.375]"
            ]
          },
          "metadata": {
            "tags": []
          },
          "execution_count": 48
        }
      ]
    },
    {
      "cell_type": "code",
      "metadata": {
        "id": "PNSl_8ZZzp68",
        "colab": {
          "base_uri": "https://localhost:8080/"
        },
        "outputId": "14bb3edf-8a56-4b07-8aeb-d91d10a6dfef"
      },
      "source": [
        "model.summary()"
      ],
      "id": "PNSl_8ZZzp68",
      "execution_count": 58,
      "outputs": [
        {
          "output_type": "stream",
          "text": [
            "Model: \"sequential_3\"\n",
            "_________________________________________________________________\n",
            "Layer (type)                 Output Shape              Param #   \n",
            "=================================================================\n",
            "dense_21 (Dense)             (None, 200)               2400      \n",
            "_________________________________________________________________\n",
            "dense_22 (Dense)             (None, 100)               20100     \n",
            "_________________________________________________________________\n",
            "dense_23 (Dense)             (None, 50)                5050      \n",
            "_________________________________________________________________\n",
            "dense_24 (Dense)             (None, 25)                1275      \n",
            "_________________________________________________________________\n",
            "dense_25 (Dense)             (None, 12)                312       \n",
            "_________________________________________________________________\n",
            "dense_26 (Dense)             (None, 6)                 78        \n",
            "_________________________________________________________________\n",
            "dense_27 (Dense)             (None, 1)                 7         \n",
            "=================================================================\n",
            "Total params: 29,222\n",
            "Trainable params: 29,222\n",
            "Non-trainable params: 0\n",
            "_________________________________________________________________\n"
          ],
          "name": "stdout"
        }
      ]
    },
    {
      "cell_type": "code",
      "metadata": {
        "id": "_BVNrDKCO_bS"
      },
      "source": [
        ""
      ],
      "id": "_BVNrDKCO_bS",
      "execution_count": null,
      "outputs": []
    }
  ]
}